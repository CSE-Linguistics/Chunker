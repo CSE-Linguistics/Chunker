{
  "nbformat": 4,
  "nbformat_minor": 0,
  "metadata": {
    "colab": {
      "name": "Chunker-BiLSTM with POS tags.ipynb",
      "provenance": [],
      "collapsed_sections": []
    },
    "kernelspec": {
      "name": "python3",
      "display_name": "Python 3"
    },
    "accelerator": "TPU"
  },
  "cells": [
    {
      "cell_type": "code",
      "metadata": {
        "id": "oY8SSclOSmkD"
      },
      "source": [
        "import numpy as np\n",
        "import tensorflow as tf\n",
        "from tensorflow import keras\n",
        "tags = [\"O\", \"B\", \"I\"]\n",
        "tag_to_index = {k:v for v,k in enumerate(tags)}\n",
        "from keras import backend as K\n",
        "from tensorflow.keras.preprocessing.sequence import pad_sequences\n"
      ],
      "execution_count": 54,
      "outputs": []
    },
    {
      "cell_type": "code",
      "metadata": {
        "id": "iQ1v0QBTOxa-"
      },
      "source": [
        "path = \"/content/drive/My Drive/assignment2dataset/\"\n",
        "import os\n",
        "f = open(os.path.join(path,\"train.txt\"))"
      ],
      "execution_count": 28,
      "outputs": []
    },
    {
      "cell_type": "markdown",
      "metadata": {
        "id": "v7HjDCNmUsEX"
      },
      "source": [
        "# Chunking Using Bi-LSTM (with POS Tags)\n",
        "\n",
        "\n",
        "> Indented block\n",
        "\n"
      ]
    },
    {
      "cell_type": "code",
      "metadata": {
        "id": "bwEg19jzY_69"
      },
      "source": [
        "def load_data_bilstm_pos_tags(file):\n",
        "\t# Opening file\n",
        "  f = open(file, 'r') \n",
        "  sents = []\n",
        "  sent = []\n",
        "  word_num = {}\n",
        "  word_num['^'] = 0\n",
        "  word_num['OOV'] = 1\n",
        "  count = 2\n",
        "  sents_tags = []\n",
        "  sent = [0]\n",
        "  sent_tags = [0]\n",
        "  for line in f:\n",
        "    cur_line = line.strip()\n",
        "    if not cur_line:\n",
        "      sents.append(sent)\n",
        "      sents_tags.append(sent_tags)\n",
        "      sent = [0]\n",
        "      sent_tags = [0]\n",
        "    else:\n",
        "      cur_line_list = cur_line.split(\" \")\n",
        "      cur_line_list[0] = cur_line_list[0].lower()\n",
        "      key = tuple(cur_line_list[:2])\n",
        "      if key not in word_num:\n",
        "          word_num[key] = count\n",
        "          count += 1\n",
        "      cur_line_list[2] = cur_line_list[2][0]\n",
        "      sent.append(word_num[key])\n",
        "      sent_tags.append(tag_to_index[cur_line_list[2]])\n",
        "\n",
        "  return sents, word_num,count, sents_tags\n",
        "sents, word_num,count, sents_tags = load_data_bilstm_pos_tags(os.path.join(path,\"train.txt\"))\n",
        "assert len(sents) == len(sents_tags)\n",
        "for i in range(len(sents)):\n",
        "  assert len(sents[i]) == len(sents_tags[i])"
      ],
      "execution_count": 29,
      "outputs": []
    },
    {
      "cell_type": "code",
      "metadata": {
        "id": "5BBvh1G5gqY2"
      },
      "source": [
        "def one_hot(sequences, num_categories):\n",
        "\tone_hot_sequences = []\n",
        "\tfor s in sequences:\n",
        "\t\tone_hot_seq = []\n",
        "\t\tfor i in s:\n",
        "\t\t\tone_hot_seq.append(np.zeros(num_categories))\n",
        "\t\t\tone_hot_seq[-1][i] = 1.0\n",
        "\t\tone_hot_sequences.append(one_hot_seq)\n",
        "\treturn np.array(one_hot_sequences)"
      ],
      "execution_count": 30,
      "outputs": []
    },
    {
      "cell_type": "code",
      "metadata": {
        "id": "e93b7jvYNTuX"
      },
      "source": [
        "MAX_LEN = len(max(sents, key=len))\n",
        "def pad_sentences(sent_words_labelled, sent_tags_labelled,MAX_LEN):\n",
        "\tsent_words_labelled = pad_sequences(sent_words_labelled, maxlen = MAX_LEN, padding='post')\n",
        "\tsent_tags_labelled = pad_sequences(sent_tags_labelled, maxlen = MAX_LEN, padding='post')\n",
        "\treturn sent_words_labelled, sent_tags_labelled\n",
        "\n",
        "train_words, train_tags = pad_sentences(sents, sents_tags,MAX_LEN)\n",
        "def ignore_class_accuracy(to_ignore=0):\n",
        "    def ignore_accuracy(y_true, y_pred):\n",
        "        y_true_class = K.argmax(y_true, axis=-1)\n",
        "        y_pred_class = K.argmax(y_pred, axis=-1)\n",
        " \n",
        "        ignore_mask = K.cast(K.not_equal(y_pred_class, to_ignore), 'int32')\n",
        "        matches = K.cast(K.equal(y_true_class, y_pred_class), 'int32') * ignore_mask\n",
        "        accuracy = K.sum(matches) / K.maximum(K.sum(ignore_mask), 1)\n",
        "        return accuracy\n",
        "    return ignore_accuracy"
      ],
      "execution_count": 31,
      "outputs": []
    },
    {
      "cell_type": "code",
      "metadata": {
        "id": "YtwaCNqeeqBr"
      },
      "source": [
        "from tensorflow.keras.models import Sequential\n",
        "from tensorflow.keras.layers import Dense, LSTM, InputLayer, Bidirectional, TimeDistributed, Embedding, Activation\n",
        "from tensorflow.keras.optimizers import Nadam\n",
        "import nltk\n",
        "from sklearn.metrics import confusion_matrix\n",
        "model = Sequential()\n",
        "model.add(InputLayer(input_shape=(len(max(sents, key=len)), )))\n",
        "model.add(Embedding(count, 128))\n",
        "model.add(Bidirectional(LSTM(256, return_sequences=True)))\n",
        "model.add(TimeDistributed(Dense(len(tags))))\n",
        "model.add(Activation('softmax'))\n",
        "model.compile(loss='categorical_crossentropy',optimizer=Nadam(0.001),metrics=['accuracy',ignore_class_accuracy(0)])"
      ],
      "execution_count": 40,
      "outputs": []
    },
    {
      "cell_type": "code",
      "metadata": {
        "id": "rhp72vMJLCyR"
      },
      "source": [
        "train_tags = np.asarray(one_hot(train_tags, len(tags)))"
      ],
      "execution_count": 33,
      "outputs": []
    },
    {
      "cell_type": "code",
      "metadata": {
        "id": "QHeU6x7he7D2",
        "outputId": "90821d92-e132-4297-8305-f79c0737d29f",
        "colab": {
          "base_uri": "https://localhost:8080/",
          "height": 442
        }
      },
      "source": [
        "model.fit(np.asarray(train_words),train_tags, batch_size=128, epochs=12)"
      ],
      "execution_count": 41,
      "outputs": [
        {
          "output_type": "stream",
          "text": [
            "Epoch 1/12\n",
            "70/70 [==============================] - 96s 1s/step - loss: 0.3631 - accuracy: 0.8174 - ignore_accuracy: 0.4942\n",
            "Epoch 2/12\n",
            "70/70 [==============================] - 95s 1s/step - loss: 0.1474 - accuracy: 0.9391 - ignore_accuracy: 0.7825\n",
            "Epoch 3/12\n",
            "70/70 [==============================] - 94s 1s/step - loss: 0.0703 - accuracy: 0.9754 - ignore_accuracy: 0.9137\n",
            "Epoch 4/12\n",
            "70/70 [==============================] - 95s 1s/step - loss: 0.0472 - accuracy: 0.9851 - ignore_accuracy: 0.9496\n",
            "Epoch 5/12\n",
            "70/70 [==============================] - 95s 1s/step - loss: 0.0386 - accuracy: 0.9882 - ignore_accuracy: 0.9601\n",
            "Epoch 6/12\n",
            "70/70 [==============================] - 101s 1s/step - loss: 0.0329 - accuracy: 0.9902 - ignore_accuracy: 0.9671\n",
            "Epoch 7/12\n",
            "70/70 [==============================] - 95s 1s/step - loss: 0.0287 - accuracy: 0.9915 - ignore_accuracy: 0.9715\n",
            "Epoch 8/12\n",
            "70/70 [==============================] - 94s 1s/step - loss: 0.0250 - accuracy: 0.9927 - ignore_accuracy: 0.9753\n",
            "Epoch 9/12\n",
            "70/70 [==============================] - 94s 1s/step - loss: 0.0223 - accuracy: 0.9935 - ignore_accuracy: 0.9779\n",
            "Epoch 10/12\n",
            "70/70 [==============================] - 94s 1s/step - loss: 0.0192 - accuracy: 0.9944 - ignore_accuracy: 0.9811\n",
            "Epoch 11/12\n",
            "70/70 [==============================] - 94s 1s/step - loss: 0.0169 - accuracy: 0.9950 - ignore_accuracy: 0.9832\n",
            "Epoch 12/12\n",
            "70/70 [==============================] - 95s 1s/step - loss: 0.0144 - accuracy: 0.9958 - ignore_accuracy: 0.9856\n"
          ],
          "name": "stdout"
        },
        {
          "output_type": "execute_result",
          "data": {
            "text/plain": [
              "<tensorflow.python.keras.callbacks.History at 0x7f56bda9b7f0>"
            ]
          },
          "metadata": {
            "tags": []
          },
          "execution_count": 41
        }
      ]
    },
    {
      "cell_type": "code",
      "metadata": {
        "id": "ImwnqdfMRb5S",
        "outputId": "2bb542ae-a7f6-43c2-c213-946a85c3dd38",
        "colab": {
          "base_uri": "https://localhost:8080/",
          "height": 34
        }
      },
      "source": [
        "def obt_test_data(file,word_num):\n",
        "\t# Opening file \n",
        "  f = open(file, 'r') \n",
        "  sents = []\n",
        "  sent = []\n",
        "  sents_tags = []\n",
        "  sent = [0]\n",
        "  sent_tags = [0]\n",
        "  len_sentences = []\n",
        "  len_sentence = 0\n",
        "  for line in f:\n",
        "    cur_line = line.strip()\n",
        "    if not cur_line:\n",
        "      sents.append(sent)\n",
        "      sents_tags.append(sent_tags)\n",
        "      sent = [0]\n",
        "      sent_tags = [0]\n",
        "      len_sentences.append(len_sentence)\n",
        "      len_sentence = 0\n",
        "    else:\n",
        "      cur_line_list = cur_line.split(\" \")\n",
        "      cur_line_list[0] = cur_line_list[0].lower()\n",
        "      cur_line_list[2] = cur_line_list[2][0]\n",
        "      key = tuple(cur_line_list[:2])\n",
        "      if key not in word_num:\n",
        "        sent.append(1)\n",
        "      else:\n",
        "        sent.append(word_num[key])\n",
        "      len_sentence+=1\n",
        "      sent_tags.append(tag_to_index[cur_line_list[2]])\n",
        "  len_sentences = np.asarray(len_sentences)\n",
        "  return sents, sents_tags, len_sentences\n",
        "test_sents, test_sents_tags,len_sentences = obt_test_data(os.path.join(path,\"test.txt\"), word_num)\n",
        "test_words, test_tags = pad_sentences(test_sents, test_sents_tags,MAX_LEN)\n",
        "test_tags_one_hot = np.asarray(one_hot(test_tags, len(tags)))\n",
        "model.evaluate(\n",
        "    test_words, test_tags_one_hot\n",
        "    )\n",
        "Y_pred = model.predict(test_words)"
      ],
      "execution_count": 83,
      "outputs": [
        {
          "output_type": "stream",
          "text": [
            "63/63 [==============================] - 10s 161ms/step - loss: 0.0732 - accuracy: 0.9791 - ignore_accuracy: 0.9286\n"
          ],
          "name": "stdout"
        }
      ]
    },
    {
      "cell_type": "code",
      "metadata": {
        "id": "OrBzp3_scWvj"
      },
      "source": [
        "Y_pred = np.argmax(Y_pred,axis = 2)"
      ],
      "execution_count": 80,
      "outputs": []
    },
    {
      "cell_type": "code",
      "metadata": {
        "id": "qJe5wbZMijEw",
        "outputId": "a0ca0b73-65e9-4e40-aa11-a60f6c082ae1",
        "colab": {
          "base_uri": "https://localhost:8080/",
          "height": 68
        }
      },
      "source": [
        "final_y_pred_mux = []\n",
        "final_y_true_mux = []\n",
        "assert len(len_sentences) == Y_pred.shape[0]\n",
        "for i in range(Y_pred.shape[0]):\n",
        "  final_y_pred_mux.append(Y_pred[i,1:1+len_sentences[i]])\n",
        "  final_y_true_mux.append(test_tags[i, 1:1+len_sentences[i]])\n",
        "\n",
        "final_y_pred = [val for el in final_y_pred_mux for val in el]\n",
        "final_y_true = [val for el in final_y_true_mux for val in el]\n",
        "\n",
        "\n",
        "Y_pred = Y_pred.flatten()\n",
        "test_tags = test_tags.flatten()\n",
        "\n",
        "from sklearn.metrics import confusion_matrix\n",
        "print(confusion_matrix(final_y_true, final_y_pred))\n"
      ],
      "execution_count": 81,
      "outputs": [
        {
          "output_type": "stream",
          "text": [
            "[[ 5933   106   141]\n",
            " [   84 22781   987]\n",
            " [  312  1694 15339]]\n"
          ],
          "name": "stdout"
        }
      ]
    },
    {
      "cell_type": "code",
      "metadata": {
        "id": "PYDtVLaoVDQR",
        "outputId": "5c35a5b2-d521-4f4d-931c-0593151ae4cd",
        "colab": {
          "base_uri": "https://localhost:8080/",
          "height": 187
        }
      },
      "source": [
        "from sklearn.metrics import classification_report\n",
        "print(classification_report(final_y_true, final_y_pred))"
      ],
      "execution_count": 82,
      "outputs": [
        {
          "output_type": "stream",
          "text": [
            "              precision    recall  f1-score   support\n",
            "\n",
            "           0       0.94      0.96      0.95      6180\n",
            "           1       0.93      0.96      0.94     23852\n",
            "           2       0.93      0.88      0.91     17345\n",
            "\n",
            "    accuracy                           0.93     47377\n",
            "   macro avg       0.93      0.93      0.93     47377\n",
            "weighted avg       0.93      0.93      0.93     47377\n",
            "\n"
          ],
          "name": "stdout"
        }
      ]
    },
    {
      "cell_type": "code",
      "metadata": {
        "id": "GnGIcz2CsYFO",
        "outputId": "2616dafb-3bff-4932-a381-69a4254539c4",
        "colab": {
          "base_uri": "https://localhost:8080/",
          "height": 297
        }
      },
      "source": [
        "from matplotlib import pyplot as plt\n",
        "%matplotlib inline\n",
        "conf_matr = confusion_matrix(test_tags, Y_pred)\n",
        "fig, ax = plt.subplots()\n",
        "#Since we ignore data originally from O\n",
        "conf_matr = confusion_matrix(final_y_true, final_y_pred)\n",
        "im = ax.imshow(conf_matr)\n",
        "\n",
        "ax.set_xticks(np.arange(len(tags)))\n",
        "ax.set_yticks(np.arange(len(tags)))\n",
        "# ... and label them with the respective list entries\n",
        "ax.set_xticklabels(tags)\n",
        "ax.set_yticklabels(tags)\n",
        "\n",
        "\n",
        "for i in range(len(tags)):\n",
        "    for j in range(len(tags)):\n",
        "        text = ax.text(j, i, conf_matr[i,j],\n",
        "                       ha=\"center\", va=\"center\", color=\"w\")\n",
        "\n",
        "ax.set_title(\"Heat Map\")\n",
        "fig.tight_layout()\n",
        "plt.show()"
      ],
      "execution_count": 78,
      "outputs": [
        {
          "output_type": "display_data",
          "data": {
            "image/png": "[encoded data removed]",
            "text/plain": [
              "<Figure size 432x288 with 1 Axes>"
            ]
          },
          "metadata": {
            "tags": [],
            "needs_background": "light"
          }
        }
      ]
    },
    {
      "cell_type": "code",
      "metadata": {
        "id": "Ywxx8-gCxXbo"
      },
      "source": [
        "model.save(os.path.join(path,\"word_pos.h5\"))"
      ],
      "execution_count": 48,
      "outputs": []
    }
  ]
}